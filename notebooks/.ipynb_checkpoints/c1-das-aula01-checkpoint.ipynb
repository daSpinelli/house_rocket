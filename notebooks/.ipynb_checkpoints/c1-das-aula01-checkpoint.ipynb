{
 "cells": [
  {
   "cell_type": "markdown",
   "id": "97225d84-5d2c-4d96-bde7-fb669917a8bd",
   "metadata": {
    "tags": []
   },
   "source": [
    "# Context"
   ]
  },
  {
   "cell_type": "markdown",
   "id": "d73482e2-186a-4b03-afb9-a4a3169a8112",
   "metadata": {
    "jp-MarkdownHeadingCollapsed": true,
    "tags": []
   },
   "source": [
    "## 1.1. Company"
   ]
  },
  {
   "cell_type": "markdown",
   "id": "3a117a82-3b7a-4249-8660-157f8e941a1b",
   "metadata": {},
   "source": [
    "House Rocket is a company that buy properties when the prices are low and sell them for higher prices through an online platform of buy and selling properties looking foward some profit."
   ]
  },
  {
   "cell_type": "markdown",
   "id": "06487c3d-2398-4ad0-bb16-d0d77649ad6a",
   "metadata": {},
   "source": [
    "## 1.2 Business Questions"
   ]
  },
  {
   "cell_type": "markdown",
   "id": "69dbbaf6-781d-4a4d-a837-54a5c2971465",
   "metadata": {},
   "source": [
    "- How many properties are available for buying?\n",
    "- How many attributes these properties have?\n",
    "- What are the propertis attributes?\n",
    "- What is the expensier property?\n",
    "- What is the propertiy with more bedrooms?"
   ]
  },
  {
   "cell_type": "markdown",
   "id": "d13a18bd",
   "metadata": {},
   "source": [
    "- What is the total number of bedrooms in this dataset?\n",
    "- How many properties have 2+ bathrooms?\n",
    "- What is the average price for properties in this dataset?\n",
    "- What is the average price for properties with 2+ bathrooms?\n",
    "- What is the mininum price for properties with 3+ bedrooms?\n",
    "- How many properties have a living room with 300+ ft²?\n",
    "- How many properties have 2+ floors?\n",
    "- How many properties have waterview?\n",
    "- How many properties have 3+ bedrooms and waterview?\n",
    "- How many properties have a living room with 300+ ft² and 2+ bedrooms?"
   ]
  },
  {
   "cell_type": "markdown",
   "id": "d4ad8ba1-2dd1-4479-b065-a0457f770b2f",
   "metadata": {
    "tags": []
   },
   "source": [
    "# 2. Solution Planning"
   ]
  },
  {
   "cell_type": "markdown",
   "id": "8937ba4e-4277-4bea-901a-1e66f07a6a10",
   "metadata": {
    "tags": []
   },
   "source": [
    "## Input"
   ]
  },
  {
   "cell_type": "markdown",
   "id": "873d7b25-752b-43f5-b6aa-a927a0961d60",
   "metadata": {},
   "source": [
    "Data can be downloaded from the link https://www.kaggle.com/harlfoxem/housesalesprediction"
   ]
  },
  {
   "cell_type": "markdown",
   "id": "68134355-2a65-4fe4-b637-448cd5d72438",
   "metadata": {
    "tags": []
   },
   "source": [
    "## Output"
   ]
  },
  {
   "cell_type": "markdown",
   "id": "881bdb28-b937-4456-b3c6-94d04229946d",
   "metadata": {},
   "source": [
    "A table with the business questions answered"
   ]
  },
  {
   "cell_type": "markdown",
   "id": "43d37d1c-49b5-4754-b553-c7110ebc06d5",
   "metadata": {},
   "source": [
    "## Tasks"
   ]
  },
  {
   "cell_type": "markdown",
   "id": "61eb3535-6e2e-4018-91a6-e13cbeb49177",
   "metadata": {},
   "source": [
    "Explore the data with python in order to get the answers."
   ]
  },
  {
   "cell_type": "markdown",
   "id": "5aa3ae70-706b-4e20-b735-fd57377f6cb0",
   "metadata": {},
   "source": [
    "# 0. SETTINGS"
   ]
  },
  {
   "cell_type": "markdown",
   "id": "ce42b9b1-425a-4194-9196-afc0c9fa5e2e",
   "metadata": {},
   "source": [
    "## 0.1 Imports"
   ]
  },
  {
   "cell_type": "code",
   "execution_count": 128,
   "id": "702c6cab-6d32-4525-b349-2e3f97482a39",
   "metadata": {
    "ExecuteTime": {
     "end_time": "2021-11-25T11:37:06.682998Z",
     "start_time": "2021-11-25T11:37:06.679180Z"
    }
   },
   "outputs": [],
   "source": [
    "import pandas as pd\n",
    "import numpy as np\n",
    "\n",
    "from tabulate import tabulate"
   ]
  },
  {
   "cell_type": "markdown",
   "id": "81864284-4503-4907-8b8a-f12e5714da3e",
   "metadata": {},
   "source": [
    "## 0.1. Helper Functions"
   ]
  },
  {
   "cell_type": "code",
   "execution_count": null,
   "id": "096ca81f-0fe7-4e2a-a992-fe4e2bb7da04",
   "metadata": {},
   "outputs": [],
   "source": []
  },
  {
   "cell_type": "markdown",
   "id": "5dc232cf-4ecb-4143-a984-df8124403ab3",
   "metadata": {},
   "source": [
    "## 0.2. Definitions"
   ]
  },
  {
   "cell_type": "code",
   "execution_count": 129,
   "id": "30189a81-60e7-44bb-9f67-17791169d79b",
   "metadata": {
    "ExecuteTime": {
     "end_time": "2021-11-25T11:37:06.689180Z",
     "start_time": "2021-11-25T11:37:06.685733Z"
    }
   },
   "outputs": [],
   "source": [
    "HOME_PATH = '~/repos/python_zero_ao_ds'"
   ]
  },
  {
   "cell_type": "markdown",
   "id": "162384d0-28e0-4c52-9c68-566b5bc551e1",
   "metadata": {},
   "source": [
    "## 0.3 Data Loading"
   ]
  },
  {
   "cell_type": "code",
   "execution_count": 130,
   "id": "ee5c933e-271a-489e-b6da-53355342ea8c",
   "metadata": {
    "ExecuteTime": {
     "end_time": "2021-11-25T11:37:06.744944Z",
     "start_time": "2021-11-25T11:37:06.692035Z"
    }
   },
   "outputs": [
    {
     "data": {
      "text/html": [
       "<div>\n",
       "<style scoped>\n",
       "    .dataframe tbody tr th:only-of-type {\n",
       "        vertical-align: middle;\n",
       "    }\n",
       "\n",
       "    .dataframe tbody tr th {\n",
       "        vertical-align: top;\n",
       "    }\n",
       "\n",
       "    .dataframe thead th {\n",
       "        text-align: right;\n",
       "    }\n",
       "</style>\n",
       "<table border=\"1\" class=\"dataframe\">\n",
       "  <thead>\n",
       "    <tr style=\"text-align: right;\">\n",
       "      <th></th>\n",
       "      <th>id</th>\n",
       "      <th>date</th>\n",
       "      <th>price</th>\n",
       "      <th>bedrooms</th>\n",
       "      <th>bathrooms</th>\n",
       "      <th>sqft_living</th>\n",
       "      <th>sqft_lot</th>\n",
       "      <th>floors</th>\n",
       "      <th>waterfront</th>\n",
       "      <th>view</th>\n",
       "      <th>...</th>\n",
       "      <th>grade</th>\n",
       "      <th>sqft_above</th>\n",
       "      <th>sqft_basement</th>\n",
       "      <th>yr_built</th>\n",
       "      <th>yr_renovated</th>\n",
       "      <th>zipcode</th>\n",
       "      <th>lat</th>\n",
       "      <th>long</th>\n",
       "      <th>sqft_living15</th>\n",
       "      <th>sqft_lot15</th>\n",
       "    </tr>\n",
       "  </thead>\n",
       "  <tbody>\n",
       "    <tr>\n",
       "      <th>0</th>\n",
       "      <td>7129300520</td>\n",
       "      <td>20141013T000000</td>\n",
       "      <td>221900.0</td>\n",
       "      <td>3</td>\n",
       "      <td>1.00</td>\n",
       "      <td>1180</td>\n",
       "      <td>5650</td>\n",
       "      <td>1.0</td>\n",
       "      <td>0</td>\n",
       "      <td>0</td>\n",
       "      <td>...</td>\n",
       "      <td>7</td>\n",
       "      <td>1180</td>\n",
       "      <td>0</td>\n",
       "      <td>1955</td>\n",
       "      <td>0</td>\n",
       "      <td>98178</td>\n",
       "      <td>47.5112</td>\n",
       "      <td>-122.257</td>\n",
       "      <td>1340</td>\n",
       "      <td>5650</td>\n",
       "    </tr>\n",
       "    <tr>\n",
       "      <th>1</th>\n",
       "      <td>6414100192</td>\n",
       "      <td>20141209T000000</td>\n",
       "      <td>538000.0</td>\n",
       "      <td>3</td>\n",
       "      <td>2.25</td>\n",
       "      <td>2570</td>\n",
       "      <td>7242</td>\n",
       "      <td>2.0</td>\n",
       "      <td>0</td>\n",
       "      <td>0</td>\n",
       "      <td>...</td>\n",
       "      <td>7</td>\n",
       "      <td>2170</td>\n",
       "      <td>400</td>\n",
       "      <td>1951</td>\n",
       "      <td>1991</td>\n",
       "      <td>98125</td>\n",
       "      <td>47.7210</td>\n",
       "      <td>-122.319</td>\n",
       "      <td>1690</td>\n",
       "      <td>7639</td>\n",
       "    </tr>\n",
       "    <tr>\n",
       "      <th>2</th>\n",
       "      <td>5631500400</td>\n",
       "      <td>20150225T000000</td>\n",
       "      <td>180000.0</td>\n",
       "      <td>2</td>\n",
       "      <td>1.00</td>\n",
       "      <td>770</td>\n",
       "      <td>10000</td>\n",
       "      <td>1.0</td>\n",
       "      <td>0</td>\n",
       "      <td>0</td>\n",
       "      <td>...</td>\n",
       "      <td>6</td>\n",
       "      <td>770</td>\n",
       "      <td>0</td>\n",
       "      <td>1933</td>\n",
       "      <td>0</td>\n",
       "      <td>98028</td>\n",
       "      <td>47.7379</td>\n",
       "      <td>-122.233</td>\n",
       "      <td>2720</td>\n",
       "      <td>8062</td>\n",
       "    </tr>\n",
       "    <tr>\n",
       "      <th>3</th>\n",
       "      <td>2487200875</td>\n",
       "      <td>20141209T000000</td>\n",
       "      <td>604000.0</td>\n",
       "      <td>4</td>\n",
       "      <td>3.00</td>\n",
       "      <td>1960</td>\n",
       "      <td>5000</td>\n",
       "      <td>1.0</td>\n",
       "      <td>0</td>\n",
       "      <td>0</td>\n",
       "      <td>...</td>\n",
       "      <td>7</td>\n",
       "      <td>1050</td>\n",
       "      <td>910</td>\n",
       "      <td>1965</td>\n",
       "      <td>0</td>\n",
       "      <td>98136</td>\n",
       "      <td>47.5208</td>\n",
       "      <td>-122.393</td>\n",
       "      <td>1360</td>\n",
       "      <td>5000</td>\n",
       "    </tr>\n",
       "    <tr>\n",
       "      <th>4</th>\n",
       "      <td>1954400510</td>\n",
       "      <td>20150218T000000</td>\n",
       "      <td>510000.0</td>\n",
       "      <td>3</td>\n",
       "      <td>2.00</td>\n",
       "      <td>1680</td>\n",
       "      <td>8080</td>\n",
       "      <td>1.0</td>\n",
       "      <td>0</td>\n",
       "      <td>0</td>\n",
       "      <td>...</td>\n",
       "      <td>8</td>\n",
       "      <td>1680</td>\n",
       "      <td>0</td>\n",
       "      <td>1987</td>\n",
       "      <td>0</td>\n",
       "      <td>98074</td>\n",
       "      <td>47.6168</td>\n",
       "      <td>-122.045</td>\n",
       "      <td>1800</td>\n",
       "      <td>7503</td>\n",
       "    </tr>\n",
       "  </tbody>\n",
       "</table>\n",
       "<p>5 rows × 21 columns</p>\n",
       "</div>"
      ],
      "text/plain": [
       "           id             date     price  bedrooms  bathrooms  sqft_living  \\\n",
       "0  7129300520  20141013T000000  221900.0         3       1.00         1180   \n",
       "1  6414100192  20141209T000000  538000.0         3       2.25         2570   \n",
       "2  5631500400  20150225T000000  180000.0         2       1.00          770   \n",
       "3  2487200875  20141209T000000  604000.0         4       3.00         1960   \n",
       "4  1954400510  20150218T000000  510000.0         3       2.00         1680   \n",
       "\n",
       "   sqft_lot  floors  waterfront  view  ...  grade  sqft_above  sqft_basement  \\\n",
       "0      5650     1.0           0     0  ...      7        1180              0   \n",
       "1      7242     2.0           0     0  ...      7        2170            400   \n",
       "2     10000     1.0           0     0  ...      6         770              0   \n",
       "3      5000     1.0           0     0  ...      7        1050            910   \n",
       "4      8080     1.0           0     0  ...      8        1680              0   \n",
       "\n",
       "   yr_built  yr_renovated  zipcode      lat     long  sqft_living15  \\\n",
       "0      1955             0    98178  47.5112 -122.257           1340   \n",
       "1      1951          1991    98125  47.7210 -122.319           1690   \n",
       "2      1933             0    98028  47.7379 -122.233           2720   \n",
       "3      1965             0    98136  47.5208 -122.393           1360   \n",
       "4      1987             0    98074  47.6168 -122.045           1800   \n",
       "\n",
       "   sqft_lot15  \n",
       "0        5650  \n",
       "1        7639  \n",
       "2        8062  \n",
       "3        5000  \n",
       "4        7503  \n",
       "\n",
       "[5 rows x 21 columns]"
      ]
     },
     "execution_count": 130,
     "metadata": {},
     "output_type": "execute_result"
    }
   ],
   "source": [
    "data_file = HOME_PATH+'/data/raw/kc_house_data.csv'\n",
    "df_raw = pd.read_csv(data_file)\n",
    "df_raw.head()"
   ]
  },
  {
   "cell_type": "markdown",
   "id": "ed4e318e-bd51-43fc-9e25-658457a7b6ac",
   "metadata": {},
   "source": [
    "# 1. DATA DESCRIPTION"
   ]
  },
  {
   "cell_type": "code",
   "execution_count": 131,
   "id": "656a16ce-d324-4e04-99cf-78dd1ad36bed",
   "metadata": {
    "ExecuteTime": {
     "end_time": "2021-11-25T11:37:06.749176Z",
     "start_time": "2021-11-25T11:37:06.746264Z"
    }
   },
   "outputs": [],
   "source": [
    "questions = ['How many properties are available for buying?',\n",
    "             'How many attributes there properties have?',\n",
    "             'What are the properties attributes?',\n",
    "             'What is the expensier property?',\n",
    "             'What is the property with more bedrooms?',\n",
    "             'What is the total of bedrooms in this dataset?',\n",
    "             'How many properties have 2+ bathrooms?',\n",
    "             'What is the average price in this dataset?',\n",
    "             'What is the average price for properties with\\n2+ bathrooms?',\n",
    "             'What is the mininum price for properties with\\n3+ bedrooms?',\n",
    "             'How many properties have a living room with\\n300+ m²?',\n",
    "             'How many properties have more than 2 floors?',\n",
    "             'How many properties have waterview?',\n",
    "             'How many properties have 3+ bedrooms\\nand water view?',\n",
    "             'How many properties have a living room with\\n300+ m² and 2+ bedrooms?'\n",
    "            ]\n",
    "\n",
    "answers = []"
   ]
  },
  {
   "cell_type": "markdown",
   "id": "e68ebde9-13bb-4102-a299-9ce8a5963fa9",
   "metadata": {},
   "source": [
    "Question 1: How many properties are available for buying?"
   ]
  },
  {
   "cell_type": "code",
   "execution_count": 132,
   "id": "e6f94a7b-eafb-4ed9-8902-9b42c21b95e1",
   "metadata": {
    "ExecuteTime": {
     "end_time": "2021-11-25T11:37:06.753278Z",
     "start_time": "2021-11-25T11:37:06.751150Z"
    }
   },
   "outputs": [],
   "source": [
    "n_properties = df_raw.shape[0]\n",
    "answers.append('There are {:,.0f} properties.'.format(n_properties))"
   ]
  },
  {
   "cell_type": "markdown",
   "id": "aaee4104-c2fe-4c1c-9539-bcb2068bb777",
   "metadata": {},
   "source": [
    "Question 2: How many attributes these properties have?"
   ]
  },
  {
   "cell_type": "code",
   "execution_count": 133,
   "id": "0f963081-5cc3-42eb-ada8-927d8273bb05",
   "metadata": {
    "ExecuteTime": {
     "end_time": "2021-11-25T11:37:06.759861Z",
     "start_time": "2021-11-25T11:37:06.754475Z"
    }
   },
   "outputs": [],
   "source": [
    "n_attributes = len(df_raw.drop(['id', 'date'], axis=1).columns)\n",
    "answers.append('There are {:,.0f} attributes.'.format(n_attributes))"
   ]
  },
  {
   "cell_type": "markdown",
   "id": "386bcd6c-aa38-489a-985a-357aade02614",
   "metadata": {},
   "source": [
    "Question 3: What are the propertis attributes?"
   ]
  },
  {
   "cell_type": "code",
   "execution_count": 134,
   "id": "8663b2a3-9330-417e-8927-93e6b969ac7f",
   "metadata": {
    "ExecuteTime": {
     "end_time": "2021-11-25T11:37:06.768852Z",
     "start_time": "2021-11-25T11:37:06.762235Z"
    }
   },
   "outputs": [],
   "source": [
    "attributes_list = df_raw.drop(['id', 'date'], axis=1).columns.tolist()\n",
    "attributes = 'Attributes:\\n'\n",
    "i = 0\n",
    "for a in attributes_list:\n",
    "    attributes = attributes + a + ','\n",
    "    if i == 5:\n",
    "        attributes = attributes + '\\n'\n",
    "        i = 0\n",
    "    else:\n",
    "        i += 1\n",
    "answers.append(attributes[:-1])"
   ]
  },
  {
   "cell_type": "markdown",
   "id": "e697a7f9-a139-42c5-947d-049cc399e6f3",
   "metadata": {},
   "source": [
    "Question 4: What is the expensier property?"
   ]
  },
  {
   "cell_type": "code",
   "execution_count": 135,
   "id": "96d71d0a-5b52-4031-8a27-0c4699b49781",
   "metadata": {
    "ExecuteTime": {
     "end_time": "2021-11-25T11:37:06.781017Z",
     "start_time": "2021-11-25T11:37:06.772187Z"
    }
   },
   "outputs": [],
   "source": [
    "aux = df_raw[['id', 'price']].nlargest(1, 'price')\n",
    "expensier = 'Property id: {} and price {:,.2f}.'.format(aux['id'].values[0], aux['price'].values[0])\n",
    "answers.append(expensier)"
   ]
  },
  {
   "cell_type": "markdown",
   "id": "ac4c910a-c426-482c-8b70-ddcd949e84a5",
   "metadata": {},
   "source": [
    "Question 5: What is the propertiy with more bedrooms?"
   ]
  },
  {
   "cell_type": "code",
   "execution_count": 136,
   "id": "c9fce49f-4dab-4bae-8d37-9c584493757f",
   "metadata": {
    "ExecuteTime": {
     "end_time": "2021-11-25T11:37:06.790631Z",
     "start_time": "2021-11-25T11:37:06.782876Z"
    }
   },
   "outputs": [],
   "source": [
    "aux = df_raw[['id', 'bedrooms']].nlargest(1, 'bedrooms')\n",
    "more_bedrooms = 'Property id: {} has more bedrooms with {:,.0f} in total.'.format(aux['id'].values[0], aux['bedrooms'].values[0])\n",
    "answers.append(more_bedrooms)"
   ]
  },
  {
   "cell_type": "markdown",
   "id": "10da2b53",
   "metadata": {},
   "source": [
    "Question 6: What is the total number of bedrooms in this dataset?"
   ]
  },
  {
   "cell_type": "code",
   "execution_count": 137,
   "id": "ebfa0d90",
   "metadata": {
    "ExecuteTime": {
     "end_time": "2021-11-25T11:37:06.797918Z",
     "start_time": "2021-11-25T11:37:06.793934Z"
    }
   },
   "outputs": [],
   "source": [
    "sum_bedrooms = '{:,.0f} bedrooms.'.format(df_raw['bedrooms'].sum())\n",
    "answers.append(sum_bedrooms)"
   ]
  },
  {
   "cell_type": "markdown",
   "id": "32a77310",
   "metadata": {},
   "source": [
    "Question 7: How many properties have 2+ bathrooms?"
   ]
  },
  {
   "cell_type": "code",
   "execution_count": 138,
   "id": "2a395f90",
   "metadata": {
    "ExecuteTime": {
     "end_time": "2021-11-25T11:37:06.804966Z",
     "start_time": "2021-11-25T11:37:06.800010Z"
    }
   },
   "outputs": [],
   "source": [
    "prop_2plus_bedrooms = '{:,.0f} properties.'.format(df_raw.loc[df_raw['bedrooms'] > 1, 'id'].count())\n",
    "answers.append(prop_2plus_bedrooms)"
   ]
  },
  {
   "cell_type": "markdown",
   "id": "f97b4f6d",
   "metadata": {},
   "source": [
    "Question 8: What is the average price for properties in this dataset?"
   ]
  },
  {
   "cell_type": "code",
   "execution_count": 139,
   "id": "8c8d7747",
   "metadata": {
    "ExecuteTime": {
     "end_time": "2021-11-25T11:37:06.809351Z",
     "start_time": "2021-11-25T11:37:06.806581Z"
    }
   },
   "outputs": [],
   "source": [
    "avg_price = '{:,.2f}'.format(df_raw['price'].mean())\n",
    "answers.append(avg_price)"
   ]
  },
  {
   "cell_type": "markdown",
   "id": "696f7db3",
   "metadata": {},
   "source": [
    "Question 9: What is the average price for properties with 2+ bathrooms?"
   ]
  },
  {
   "cell_type": "code",
   "execution_count": 140,
   "id": "397d420b",
   "metadata": {
    "ExecuteTime": {
     "end_time": "2021-11-25T11:37:06.815937Z",
     "start_time": "2021-11-25T11:37:06.811366Z"
    }
   },
   "outputs": [],
   "source": [
    "avg_price_2plus_bath = '{:,.2f}'.format(df_raw.loc[df_raw['bathrooms'] > 1, 'price'].mean())\n",
    "answers.append(avg_price_2plus_bath)"
   ]
  },
  {
   "cell_type": "markdown",
   "id": "66d19c17",
   "metadata": {},
   "source": [
    "Question 10: What is the mininum price for properties with 3+ bedrooms?"
   ]
  },
  {
   "cell_type": "code",
   "execution_count": 141,
   "id": "d7426222",
   "metadata": {
    "ExecuteTime": {
     "end_time": "2021-11-25T11:37:06.821113Z",
     "start_time": "2021-11-25T11:37:06.817505Z"
    }
   },
   "outputs": [],
   "source": [
    "min_price_3plus_bed = '{:,.2f}'.format(df_raw.loc[df_raw['bedrooms'] > 2, 'price'].min())\n",
    "answers.append(min_price_3plus_bed)"
   ]
  },
  {
   "cell_type": "markdown",
   "id": "e9c3b46e",
   "metadata": {},
   "source": [
    "Question 11: How many properties have a living room with 300+ m²?"
   ]
  },
  {
   "cell_type": "code",
   "execution_count": 142,
   "id": "67a286bc",
   "metadata": {
    "ExecuteTime": {
     "end_time": "2021-11-25T11:37:06.830280Z",
     "start_time": "2021-11-25T11:37:06.822638Z"
    }
   },
   "outputs": [],
   "source": [
    "# 1 feet = 0.3048 meters\n",
    "filter_300sqm = 300 / 0.3048\n",
    "prop_300plus_sqm = '{:,.0f}'.format(df_raw.loc[df_raw['sqft_living'] >= filter_300sqm, 'id'].count())\n",
    "answers.append(prop_300plus_sqm)"
   ]
  },
  {
   "cell_type": "markdown",
   "id": "3d0fff77",
   "metadata": {},
   "source": [
    "Question 12: How many properties have more than 2 floors?"
   ]
  },
  {
   "cell_type": "code",
   "execution_count": 143,
   "id": "5c7ad9f1",
   "metadata": {
    "ExecuteTime": {
     "end_time": "2021-11-25T11:37:06.835987Z",
     "start_time": "2021-11-25T11:37:06.831944Z"
    }
   },
   "outputs": [],
   "source": [
    "prop_2plus_floors = '{:,.0f}'.format(df_raw.loc[df_raw['floors'] > 2, 'id'].count())\n",
    "answers.append(prop_2plus_floors)"
   ]
  },
  {
   "cell_type": "markdown",
   "id": "bce9dcd2",
   "metadata": {},
   "source": [
    "Question 13: How many properties have waterview?"
   ]
  },
  {
   "cell_type": "code",
   "execution_count": 144,
   "id": "664e7293",
   "metadata": {
    "ExecuteTime": {
     "end_time": "2021-11-25T11:37:06.843516Z",
     "start_time": "2021-11-25T11:37:06.838045Z"
    }
   },
   "outputs": [],
   "source": [
    "prop_waterview = '{:,.0f}'.format(df_raw.loc[df_raw['waterfront'] == 1, 'id'].count())\n",
    "answers.append(prop_waterview)"
   ]
  },
  {
   "cell_type": "markdown",
   "id": "5025f3aa",
   "metadata": {},
   "source": [
    "Question 14: How many properties have 3+ bedrooms and waterview?"
   ]
  },
  {
   "cell_type": "code",
   "execution_count": 145,
   "id": "eb6c98f0",
   "metadata": {
    "ExecuteTime": {
     "end_time": "2021-11-25T11:37:06.850117Z",
     "start_time": "2021-11-25T11:37:06.845470Z"
    }
   },
   "outputs": [],
   "source": [
    "prop_waterview_3plus_bed = '{:,.0f}'.format(df_raw.loc[(df_raw['bedrooms'] > 2) & (df_raw['waterfront'] == 1), 'id'].count())\n",
    "answers.append(prop_waterview_3plus_bed)"
   ]
  },
  {
   "cell_type": "markdown",
   "id": "d14bfcdc",
   "metadata": {},
   "source": [
    "Question 15: How many properties have a living room with 300+ m² and 2+ bedrooms?"
   ]
  },
  {
   "cell_type": "code",
   "execution_count": 146,
   "id": "d25933e9",
   "metadata": {
    "ExecuteTime": {
     "end_time": "2021-11-25T11:37:06.856458Z",
     "start_time": "2021-11-25T11:37:06.851660Z"
    }
   },
   "outputs": [],
   "source": [
    "prop_300plus_sqm_2plus_bed = '{:,.0f}'.format(df_raw.loc[(df_raw['sqft_living'] >= filter_300sqm) & (df_raw['bedrooms'] > 1), 'id'].count())\n",
    "answers.append(prop_300plus_sqm_2plus_bed)"
   ]
  },
  {
   "cell_type": "code",
   "execution_count": 147,
   "id": "e26fc06d-f9ba-4318-9f06-2ec1c29399e5",
   "metadata": {
    "ExecuteTime": {
     "end_time": "2021-11-25T11:37:06.861837Z",
     "start_time": "2021-11-25T11:37:06.858147Z"
    }
   },
   "outputs": [],
   "source": [
    "business_questions = []\n",
    "for i in range(len(questions)):\n",
    "    business_questions.append([questions[i], answers[i]])\n",
    "    \n",
    "business_questions.insert(0, ['BUSINESS QUESTIONS', 'ANSWERS FROM DATA'])"
   ]
  },
  {
   "cell_type": "code",
   "execution_count": 148,
   "id": "28321ec2-2d0d-4686-9233-181e285f091a",
   "metadata": {
    "ExecuteTime": {
     "end_time": "2021-11-25T11:37:06.870494Z",
     "start_time": "2021-11-25T11:37:06.863838Z"
    }
   },
   "outputs": [
    {
     "name": "stdout",
     "output_type": "stream",
     "text": [
      "╒════════════════════════════════════════════════╤═════════════════════════════════════════════════════════════╕\n",
      "│ BUSINESS QUESTIONS                             │ ANSWERS FROM DATA                                           │\n",
      "╞════════════════════════════════════════════════╪═════════════════════════════════════════════════════════════╡\n",
      "│ How many properties are available for buying?  │ There are 21,613 properties.                                │\n",
      "├────────────────────────────────────────────────┼─────────────────────────────────────────────────────────────┤\n",
      "│ How many attributes there properties have?     │ There are 19 attributes.                                    │\n",
      "├────────────────────────────────────────────────┼─────────────────────────────────────────────────────────────┤\n",
      "│ What are the properties attributes?            │ Attributes:                                                 │\n",
      "│                                                │ price,bedrooms,bathrooms,sqft_living,sqft_lot,floors,       │\n",
      "│                                                │ waterfront,view,condition,grade,sqft_above,sqft_basement,   │\n",
      "│                                                │ yr_built,yr_renovated,zipcode,lat,long,sqft_living15,       │\n",
      "│                                                │ sqft_lot15                                                  │\n",
      "├────────────────────────────────────────────────┼─────────────────────────────────────────────────────────────┤\n",
      "│ What is the expensier property?                │ Property id: 6762700020 and price 7,700,000.00.             │\n",
      "├────────────────────────────────────────────────┼─────────────────────────────────────────────────────────────┤\n",
      "│ What is the property with more bedrooms?       │ Property id: 2402100895 has more bedrooms with 33 in total. │\n",
      "├────────────────────────────────────────────────┼─────────────────────────────────────────────────────────────┤\n",
      "│ What is the total of bedrooms in this dataset? │ 72,854 bedrooms.                                            │\n",
      "├────────────────────────────────────────────────┼─────────────────────────────────────────────────────────────┤\n",
      "│ How many properties have 2+ bathrooms?         │ 21,401 properties.                                          │\n",
      "├────────────────────────────────────────────────┼─────────────────────────────────────────────────────────────┤\n",
      "│ What is the average price in this dataset?     │ 540,088.14                                                  │\n",
      "├────────────────────────────────────────────────┼─────────────────────────────────────────────────────────────┤\n",
      "│ What is the average price for properties with  │ 583,280.65                                                  │\n",
      "│ 2+ bathrooms?                                  │                                                             │\n",
      "├────────────────────────────────────────────────┼─────────────────────────────────────────────────────────────┤\n",
      "│ What is the mininum price for properties with  │ 82,000.00                                                   │\n",
      "│ 3+ bedrooms?                                   │                                                             │\n",
      "├────────────────────────────────────────────────┼─────────────────────────────────────────────────────────────┤\n",
      "│ How many properties have a living room with    │ 20,248                                                      │\n",
      "│ 300+ m²?                                       │                                                             │\n",
      "├────────────────────────────────────────────────┼─────────────────────────────────────────────────────────────┤\n",
      "│ How many properties have more than 2 floors?   │ 782                                                         │\n",
      "├────────────────────────────────────────────────┼─────────────────────────────────────────────────────────────┤\n",
      "│ How many properties have waterview?            │ 163                                                         │\n",
      "├────────────────────────────────────────────────┼─────────────────────────────────────────────────────────────┤\n",
      "│ How many properties have 3+ bedrooms           │ 127                                                         │\n",
      "│ and water view?                                │                                                             │\n",
      "├────────────────────────────────────────────────┼─────────────────────────────────────────────────────────────┤\n",
      "│ How many properties have a living room with    │ 20,180                                                      │\n",
      "│ 300+ m² and 2+ bedrooms?                       │                                                             │\n",
      "╘════════════════════════════════════════════════╧═════════════════════════════════════════════════════════════╛\n"
     ]
    }
   ],
   "source": [
    "print(tabulate(business_questions, headers='firstrow', tablefmt='fancy_grid'))"
   ]
  },
  {
   "cell_type": "code",
   "execution_count": null,
   "id": "a663ed84-ec34-40b7-9ea4-f8085321718f",
   "metadata": {},
   "outputs": [],
   "source": []
  }
 ],
 "metadata": {
  "kernelspec": {
   "display_name": "Python 3 (ipykernel)",
   "language": "python",
   "name": "python3"
  },
  "language_info": {
   "codemirror_mode": {
    "name": "ipython",
    "version": 3
   },
   "file_extension": ".py",
   "mimetype": "text/x-python",
   "name": "python",
   "nbconvert_exporter": "python",
   "pygments_lexer": "ipython3",
   "version": "3.8.10"
  }
 },
 "nbformat": 4,
 "nbformat_minor": 5
}
